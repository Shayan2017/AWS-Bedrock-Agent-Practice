{
 "cells": [
  {
   "cell_type": "code",
   "execution_count": 1,
   "id": "03324ea1-7730-46fa-acbb-3d148cd9dd2c",
   "metadata": {},
   "outputs": [
    {
     "name": "stdout",
     "output_type": "stream",
     "text": [
      "1.40.16\n"
     ]
    }
   ],
   "source": [
    "import boto3\n",
    "import json\n",
    "import time\n",
    "import zipfile\n",
    "from io import BytesIO\n",
    "import uuid\n",
    "import pprint\n",
    "import logging\n",
    "print(boto3.__version__)"
   ]
  },
  {
   "cell_type": "code",
   "execution_count": 2,
   "id": "e3a2076c-cb4c-46d4-9261-3e90170e3083",
   "metadata": {},
   "outputs": [],
   "source": [
    "logging.basicConfig(format='[%(asctime)s] p%(process)s {%(filename)s:%(lineno)d} %(levelname)s - %(message)s', level=logging.INFO)\n",
    "logger = logging.getLogger(__name__)"
   ]
  },
  {
   "cell_type": "code",
   "execution_count": 3,
   "id": "fcf51492-3200-44ba-a3fd-067539f44b4f",
   "metadata": {},
   "outputs": [
    {
     "name": "stderr",
     "output_type": "stream",
     "text": [
      "[2025-08-28 14:20:55,214] p16253 {credentials.py:1136} INFO - Found credentials from IAM Role: BaseNotebookInstanceEc2InstanceRole\n"
     ]
    }
   ],
   "source": [
    "sts_client = boto3.client('sts')\n",
    "iam_client = boto3.client('iam')\n",
    "lambda_client = boto3.client('lambda')\n",
    "bedrock_agent_client = boto3.client('bedrock-agent')\n",
    "bedrock_agent_runtime_client = boto3.client('bedrock-agent-runtime')"
   ]
  },
  {
   "cell_type": "code",
   "execution_count": 4,
   "id": "3ebf38e8-41e6-42c3-864e-c0149bc398aa",
   "metadata": {},
   "outputs": [
    {
     "data": {
      "text/plain": [
       "('us-east-1', '637423659006')"
      ]
     },
     "execution_count": 4,
     "metadata": {},
     "output_type": "execute_result"
    }
   ],
   "source": [
    "session = boto3.session.Session()\n",
    "region = session.region_name\n",
    "account_id = sts_client.get_caller_identity()[\"Account\"]\n",
    "region, account_id"
   ]
  },
  {
   "cell_type": "code",
   "execution_count": 47,
   "id": "877ae711-3376-43d3-84b0-7f5a7002f541",
   "metadata": {},
   "outputs": [
    {
     "data": {
      "text/plain": [
       "'mistral.mistral-large-2402-v1:0'"
      ]
     },
     "execution_count": 47,
     "metadata": {},
     "output_type": "execute_result"
    }
   ],
   "source": [
    "inference_profile = \"us.mistral.mistral-large-2402-v1:0\" \n",
    "foundation_model = inference_profile[3:]\n",
    "foundation_model"
   ]
  },
  {
   "cell_type": "code",
   "execution_count": 48,
   "id": "ede4d078-da20-4e8b-a1a4-ee811df6c537",
   "metadata": {},
   "outputs": [],
   "source": [
    "suffix = f\"{region}-{account_id}\"\n",
    "agent_name = \"hr-assistant-function-def\"\n",
    "agent_bedrock_allow_policy_name = f\"{agent_name}-ba-{suffix}\"\n",
    "agent_role_name = f'AmazonBedrockExecutionRoleForAgents_{agent_name}'\n",
    "agent_description = \"Agent for providing HR assistance to manage vacation time\"\n",
    "agent_instruction = \"You are an HR agent, helping employees understand HR policies and manage vacation time\"\n",
    "agent_action_group_name = \"VacationsActionGroup\"\n",
    "agent_action_group_description = \"Actions for getting the number of available vacations days for an employee and confirm new time off\"\n",
    "agent_alias_name = f\"{agent_name}-alias\"\n",
    "lambda_function_role = f'{agent_name}-lambda-role-{suffix}'\n",
    "lambda_function_name = f'{agent_name}-{suffix}'"
   ]
  },
  {
   "cell_type": "code",
   "execution_count": 7,
   "id": "5f0b2ec4-8d56-4fd5-ab19-983eb6c249d0",
   "metadata": {},
   "outputs": [
    {
     "data": {
      "text/plain": [
       "'hr-assistant-function-def-us-east-1-637423659006'"
      ]
     },
     "execution_count": 7,
     "metadata": {},
     "output_type": "execute_result"
    }
   ],
   "source": [
    "lambda_function_name"
   ]
  },
  {
   "cell_type": "code",
   "execution_count": 8,
   "id": "0d1b8899-dc72-41e3-a58c-b94ea22d21b9",
   "metadata": {},
   "outputs": [],
   "source": [
    "# creating employee database to be used by lambda function\n",
    "import sqlite3\n",
    "import random\n",
    "from datetime import date, timedelta\n",
    "\n",
    "# Connect to the SQLite database (creates a new one if it doesn't exist)\n",
    "conn = sqlite3.connect('employee_database.db')\n",
    "c = conn.cursor()\n",
    "\n",
    "# Create the employees table\n",
    "c.execute('''CREATE TABLE IF NOT EXISTS employees\n",
    "                (employee_id INTEGER PRIMARY KEY AUTOINCREMENT, employee_name TEXT, employee_job_title TEXT, employee_start_date TEXT, employee_employment_status TEXT)''')\n",
    "\n",
    "# Create the vacations table\n",
    "c.execute('''CREATE TABLE IF NOT EXISTS vacations\n",
    "                (employee_id INTEGER, year INTEGER, employee_total_vacation_days INTEGER, employee_vacation_days_taken INTEGER, employee_vacation_days_available INTEGER, FOREIGN KEY(employee_id) REFERENCES employees(employee_id))''')\n",
    "\n",
    "# Create the planned_vacations table\n",
    "c.execute('''CREATE TABLE IF NOT EXISTS planned_vacations\n",
    "                (employee_id INTEGER, vacation_start_date TEXT, vacation_end_date TEXT, vacation_days_taken INTEGER, FOREIGN KEY(employee_id) REFERENCES employees(employee_id))''')\n",
    "\n",
    "# Generate some random data for 10 employees\n",
    "employee_names = ['John Doe', 'Jane Smith', 'Bob Johnson', 'Alice Williams', 'Tom Brown', 'Emily Davis', 'Michael Wilson', 'Sarah Taylor', 'David Anderson', 'Jessica Thompson']\n",
    "job_titles = ['Manager', 'Developer', 'Designer', 'Analyst', 'Accountant', 'Sales Representative']\n",
    "employment_statuses = ['Active', 'Inactive']\n",
    "\n",
    "for i in range(10):\n",
    "    name = employee_names[i]\n",
    "    job_title = random.choice(job_titles)\n",
    "    start_date = date(2015 + random.randint(0, 7), random.randint(1, 12), random.randint(1, 28)).strftime('%Y−%m−%d')\n",
    "    employment_status = random.choice(employment_statuses)\n",
    "    c.execute(\"INSERT INTO employees (employee_name, employee_job_title, employee_start_date, employee_employment_status) VALUES (?, ?, ?, ?)\", (name, job_title, start_date, employment_status))\n",
    "    employee_id = c.lastrowid\n",
    "\n",
    "for year in range(date.today().year, date.today().year - 3, -1):\n",
    "    total_vacation_days = random.randint(10, 30)\n",
    "    days_taken = random.randint(0, total_vacation_days)\n",
    "    days_available = total_vacation_days - days_taken\n",
    "\n",
    "    c.execute(\n",
    "        \"\"\"\n",
    "        INSERT INTO vacations (\n",
    "            employee_id, year, employee_total_vacation_days, \n",
    "            employee_vacation_days_taken, employee_vacation_days_available\n",
    "        ) VALUES (?, ?, ?, ?, ?)\n",
    "        \"\"\",\n",
    "        (employee_id, year, total_vacation_days, days_taken, days_available)\n",
    "    )\n",
    "\n",
    "    # Generate some planned vacations for the current employee and year\n",
    "    num_planned_vacations = random.randint(0, 3)\n",
    "    for _ in range(num_planned_vacations):\n",
    "        # pick a random start date\n",
    "        start_date = date(year, random.randint(1, 12), random.randint(1, 28))\n",
    "        # add between 1–14 days\n",
    "        end_date = start_date + timedelta(days=random.randint(1, 14))\n",
    "        # calculate days taken\n",
    "        days_taken = (end_date - start_date).days\n",
    "\n",
    "        # insert into DB using ISO format (YYYY-MM-DD)\n",
    "        c.execute(\n",
    "            \"\"\"\n",
    "            INSERT INTO planned_vacations (\n",
    "                employee_id, vacation_start_date, vacation_end_date, vacation_days_taken\n",
    "            ) VALUES (?, ?, ?, ?)\n",
    "            \"\"\",\n",
    "            (employee_id, start_date.isoformat(), end_date.isoformat(), days_taken)\n",
    "        )\n",
    "\n",
    "# Commit the changes and close the connection\n",
    "conn.commit()\n",
    "conn.close()"
   ]
  },
  {
   "cell_type": "code",
   "execution_count": 9,
   "id": "d676a50f-a490-4e53-84b9-0531b11bcb87",
   "metadata": {},
   "outputs": [
    {
     "name": "stdout",
     "output_type": "stream",
     "text": [
      "Writing lambda_function.py\n"
     ]
    }
   ],
   "source": [
    "%%writefile lambda_function.py\n",
    "import os\n",
    "import json\n",
    "import shutil\n",
    "import sqlite3\n",
    "from datetime import datetime\n",
    "\n",
    "\n",
    "def get_available_vacations_days(employee_id):\n",
    "    conn = sqlite3.connect('/tmp/employee_database.db')\n",
    "    c = conn.cursor()\n",
    "\n",
    "    if employee_id:\n",
    "        c.execute(\"\"\"\n",
    "            SELECT employee_vacation_days_available\n",
    "            FROM vacations\n",
    "            WHERE employee_id = ?\n",
    "            ORDER BY year DESC\n",
    "            LIMIT 1\n",
    "        \"\"\", (employee_id,))\n",
    "\n",
    "        available_vacation_days = c.fetchone()\n",
    "\n",
    "        if available_vacation_days:\n",
    "            available_vacation_days = available_vacation_days[0]\n",
    "            conn.close()\n",
    "            return available_vacation_days\n",
    "        else:\n",
    "            conn.close()\n",
    "            return f\"No vacation data found for employed_id {employee_id}\"\n",
    "    else:\n",
    "        conn.close()\n",
    "        raise Exception(\"No employee id provided\")"
   ]
  },
  {
   "cell_type": "code",
   "execution_count": 49,
   "id": "885b9c29-d786-486c-aa7d-ae8687eb811b",
   "metadata": {},
   "outputs": [
    {
     "data": {
      "text/plain": [
       "{'ResponseMetadata': {'RequestId': 'b221fded-1740-410c-9773-9afde5ee342b',\n",
       "  'HTTPStatusCode': 200,\n",
       "  'HTTPHeaders': {'date': 'Thu, 28 Aug 2025 14:49:40 GMT',\n",
       "   'x-amzn-requestid': 'b221fded-1740-410c-9773-9afde5ee342b',\n",
       "   'content-type': 'text/xml',\n",
       "   'content-length': '212'},\n",
       "  'RetryAttempts': 0}}"
      ]
     },
     "execution_count": 49,
     "metadata": {},
     "output_type": "execute_result"
    }
   ],
   "source": [
    "\n",
    "try:\n",
    "    assume_role_policy_document = {\n",
    "        \"Version\": \"2012-10-17\",\n",
    "        \"Statement\": [\n",
    "            {\n",
    "                \"Effect\": \"Allow\",\n",
    "                \"Principal\": {\n",
    "                    \"Service\": \"lambda.amazonaws.com\"\n",
    "                },\n",
    "                \"Action\": \"sts:AssumeRole\"\n",
    "            }\n",
    "        ]\n",
    "    }\n",
    "\n",
    "    assume_role_policy_document_json = json.dumps(assume_role_policy_document)\n",
    "\n",
    "    lambda_iam_role = iam_client.create_role(\n",
    "        RoleName=lambda_function_role,\n",
    "        AssumeRolePolicyDocument=assume_role_policy_document_json\n",
    "    )\n",
    "\n",
    "    # Pause to make sure role is created\n",
    "    time.sleep(10)\n",
    "except:\n",
    "    lambda_iam_role = iam_client.get_role(RoleName=lambda_function_role)\n",
    "\n",
    "iam_client.attach_role_policy(\n",
    "    RoleName=lambda_function_role,\n",
    "    PolicyArn='arn:aws:iam::aws:policy/service-role/AWSLambdaBasicExecutionRole'\n",
    ")"
   ]
  },
  {
   "cell_type": "code",
   "execution_count": 50,
   "id": "e64b7943-9e3f-4f0c-81d0-4d19e2dd5113",
   "metadata": {},
   "outputs": [],
   "source": [
    "\n",
    "# Package up the lambda function code\n",
    "s = BytesIO()\n",
    "z = zipfile.ZipFile(s, 'w')\n",
    "z.write(\"lambda_function.py\")\n",
    "z.write(\"employee_database.db\")\n",
    "z.close()\n",
    "zip_content = s.getvalue()\n",
    "\n",
    "# Create Lambda Function\n",
    "lambda_function = lambda_client.create_function(\n",
    "    FunctionName=lambda_function_name,\n",
    "    Runtime='python3.12',\n",
    "    Timeout=180,\n",
    "    Role=lambda_iam_role['Role']['Arn'],\n",
    "    Code={'ZipFile': zip_content},\n",
    "    Handler='lambda_function.lambda_handler'\n",
    ")"
   ]
  },
  {
   "cell_type": "code",
   "execution_count": 51,
   "id": "1a5233b1-a74c-4596-b5aa-98b20f826b5b",
   "metadata": {},
   "outputs": [],
   "source": [
    "bedrock_agent_bedrock_allow_policy_statement = {\n",
    "    \"Version\": \"2012-10-17\",\n",
    "    \"Statement\": [\n",
    "        {\n",
    "            \"Sid\": \"AmazonBedrockAgentBedrockFoundationModelPolicy\",\n",
    "            \"Effect\": \"Allow\",\n",
    "            \"Action\": \"bedrock:InvokeModel\",\n",
    "            \"Resource\": [\n",
    "                f\"arn:aws:bedrock:*::foundation-model/{foundation_model}\",\n",
    "                f\"arn:aws:bedrock:*:*:inference-profile/{inference_profile}\"\n",
    "            ]\n",
    "        },\n",
    "        {\n",
    "            \"Sid\": \"AmazonBedrockAgentBedrockGetInferenceProfile\",\n",
    "            \"Effect\": \"Allow\",\n",
    "            \"Action\":  [\n",
    "                \"bedrock:GetInferenceProfile\",\n",
    "                \"bedrock:ListInferenceProfiles\",\n",
    "                \"bedrock:UseInferenceProfile\"\n",
    "            ],\n",
    "            \"Resource\": [\n",
    "                f\"arn:aws:bedrock:*:*:inference-profile/{inference_profile}\"\n",
    "            ]\n",
    "        }\n",
    "    ]\n",
    "}\n",
    "\n",
    "bedrock_policy_json = json.dumps(bedrock_agent_bedrock_allow_policy_statement)\n",
    "\n",
    "agent_bedrock_policy = iam_client.create_policy(\n",
    "    PolicyName=agent_bedrock_allow_policy_name,\n",
    "    PolicyDocument=bedrock_policy_json\n",
    ")"
   ]
  },
  {
   "cell_type": "code",
   "execution_count": 52,
   "id": "96df047b-57a7-4be7-beaa-f0baa21f82f0",
   "metadata": {},
   "outputs": [
    {
     "data": {
      "text/plain": [
       "{'ResponseMetadata': {'RequestId': 'a6e2ea7b-c294-4089-9ea1-00fc03eb0012',\n",
       "  'HTTPStatusCode': 200,\n",
       "  'HTTPHeaders': {'date': 'Thu, 28 Aug 2025 14:50:29 GMT',\n",
       "   'x-amzn-requestid': 'a6e2ea7b-c294-4089-9ea1-00fc03eb0012',\n",
       "   'content-type': 'text/xml',\n",
       "   'content-length': '212'},\n",
       "  'RetryAttempts': 0}}"
      ]
     },
     "execution_count": 52,
     "metadata": {},
     "output_type": "execute_result"
    }
   ],
   "source": [
    "assume_role_policy_document = {\n",
    "    \"Version\": \"2012-10-17\",\n",
    "    \"Statement\": [{\n",
    "        \"Effect\": \"Allow\",\n",
    "        \"Principal\": {\n",
    "            \"Service\": \"bedrock.amazonaws.com\"\n",
    "        },\n",
    "        \"Action\": \"sts:AssumeRole\"\n",
    "    }]\n",
    "}\n",
    "\n",
    "assume_role_policy_document_json = json.dumps(assume_role_policy_document)\n",
    "agent_role = iam_client.create_role(\n",
    "    RoleName=agent_role_name,\n",
    "    AssumeRolePolicyDocument=assume_role_policy_document_json\n",
    ")\n",
    "\n",
    "# Pause to make sure role is created\n",
    "time.sleep(10)\n",
    "\n",
    "iam_client.attach_role_policy(\n",
    "    RoleName=agent_role_name,\n",
    "    PolicyArn=agent_bedrock_policy['Policy']['Arn']\n",
    ")"
   ]
  },
  {
   "cell_type": "code",
   "execution_count": 63,
   "id": "4e89be07-5fd7-4315-b7aa-ee78ab7a9483",
   "metadata": {},
   "outputs": [
    {
     "data": {
      "text/plain": [
       "('BI9W1TIJTY',\n",
       " {'ResponseMetadata': {'RequestId': '7ce5fab0-0282-47ed-ab39-b38d091748f0',\n",
       "   'HTTPStatusCode': 202,\n",
       "   'HTTPHeaders': {'date': 'Thu, 28 Aug 2025 15:05:35 GMT',\n",
       "    'content-type': 'application/json',\n",
       "    'content-length': '698',\n",
       "    'connection': 'keep-alive',\n",
       "    'x-amzn-requestid': '7ce5fab0-0282-47ed-ab39-b38d091748f0',\n",
       "    'x-amz-apigw-id': 'QBZ54F0YIAMEvJw=',\n",
       "    'x-amzn-trace-id': 'Root=1-68b0703e-02474a307b82d60852db16f1'},\n",
       "   'RetryAttempts': 0},\n",
       "  'agent': {'agentId': 'BI9W1TIJTY',\n",
       "   'agentName': 'hr-assistant-function-def',\n",
       "   'agentArn': 'arn:aws:bedrock:us-east-1:637423659006:agent/BI9W1TIJTY',\n",
       "   'instruction': 'You are an HR agent, helping employees understand HR policies and manage vacation time',\n",
       "   'agentStatus': 'CREATING',\n",
       "   'foundationModel': 'mistral.mistral-large-2402-v1:0',\n",
       "   'description': 'Agent for providing HR assistance to manage vacation time',\n",
       "   'orchestrationType': 'DEFAULT',\n",
       "   'idleSessionTTLInSeconds': 1800,\n",
       "   'agentResourceRoleArn': 'arn:aws:iam::637423659006:role/AmazonBedrockExecutionRoleForAgents_hr-assistant-function-def',\n",
       "   'createdAt': datetime.datetime(2025, 8, 28, 15, 5, 34, 977805, tzinfo=tzlocal()),\n",
       "   'updatedAt': datetime.datetime(2025, 8, 28, 15, 5, 34, 977805, tzinfo=tzlocal()),\n",
       "   'agentCollaboration': 'DISABLED'}})"
      ]
     },
     "execution_count": 63,
     "metadata": {},
     "output_type": "execute_result"
    }
   ],
   "source": [
    "response = bedrock_agent_client.create_agent(\n",
    "    agentName=agent_name,\n",
    "    agentResourceRoleArn=agent_role['Role']['Arn'],\n",
    "    description=agent_description,\n",
    "    idleSessionTTLInSeconds=1800,\n",
    "    foundationModel=\"mistral.mistral-large-2402-v1:0\",\n",
    "    instruction=agent_instruction,\n",
    ")\n",
    "agent_id = response['agent']['agentId']\n",
    "agent_id, response"
   ]
  },
  {
   "cell_type": "code",
   "execution_count": 54,
   "id": "41649864-f662-4047-9037-14ba7464878f",
   "metadata": {},
   "outputs": [
    {
     "data": {
      "text/plain": [
       "'SRTIYSXNR0'"
      ]
     },
     "execution_count": 54,
     "metadata": {},
     "output_type": "execute_result"
    }
   ],
   "source": [
    "agent_id"
   ]
  },
  {
   "cell_type": "code",
   "execution_count": 55,
   "id": "667ccca1-5fd2-46b8-ac36-6548fd522bdd",
   "metadata": {},
   "outputs": [],
   "source": [
    "\n",
    "agent_functions = [\n",
    "    {\n",
    "        'name': 'get_available_vacations_days',\n",
    "        'description': 'get the number of vacations available for a certain employee',\n",
    "        'parameters': {\n",
    "            \"employee_id\": {\n",
    "                \"description\": \"the id of the employee to get the available vacations\",\n",
    "                \"required\": True,\n",
    "                \"type\": \"integer\"\n",
    "            }\n",
    "        }\n",
    "    },\n",
    "    {\n",
    "        'name': 'reserve_vacation_time',\n",
    "        'description': 'reserve vacation time for a specific employee - you need all parameters to reserve vacation time',\n",
    "        'parameters': {\n",
    "            \"employee_id\": {\n",
    "                \"description\": \"the id of the employee for which time off will be reserved\",\n",
    "                \"required\": True,\n",
    "                \"type\": \"integer\"\n",
    "            },\n",
    "            \"start_date\": {\n",
    "                \"description\": \"the start date for the vacation time\",\n",
    "                \"required\": True,\n",
    "                \"type\": \"string\"\n",
    "            },\n",
    "            \"end_date\": {\n",
    "                \"description\": \"the end date for the vacation time\",\n",
    "                \"required\": True,\n",
    "                \"type\": \"string\"\n",
    "            }\n",
    "        }\n",
    "    },\n",
    "]"
   ]
  },
  {
   "cell_type": "code",
   "execution_count": 56,
   "id": "12589d4f-427a-4afb-bc99-386b0b61ace7",
   "metadata": {},
   "outputs": [
    {
     "data": {
      "text/plain": [
       "{'ResponseMetadata': {'RequestId': 'd03801b4-6740-4801-a1a9-8f66ba05ecfd',\n",
       "  'HTTPStatusCode': 200,\n",
       "  'HTTPHeaders': {'date': 'Thu, 28 Aug 2025 14:51:18 GMT',\n",
       "   'content-type': 'application/json',\n",
       "   'content-length': '1335',\n",
       "   'connection': 'keep-alive',\n",
       "   'x-amzn-requestid': 'd03801b4-6740-4801-a1a9-8f66ba05ecfd',\n",
       "   'x-amz-apigw-id': 'QBXz9H54IAMEahA=',\n",
       "   'x-amzn-trace-id': 'Root=1-68b06ce5-2eaa0855007ccfe55b17b983'},\n",
       "  'RetryAttempts': 0},\n",
       " 'agentActionGroup': {'agentId': 'SRTIYSXNR0',\n",
       "  'agentVersion': 'DRAFT',\n",
       "  'actionGroupId': 'OQPICOJLSA',\n",
       "  'actionGroupName': 'VacationsActionGroup',\n",
       "  'description': 'Actions for getting the number of available vacations days for an employee and confirm new time off',\n",
       "  'createdAt': datetime.datetime(2025, 8, 28, 14, 51, 17, 923768, tzinfo=tzlocal()),\n",
       "  'updatedAt': datetime.datetime(2025, 8, 28, 14, 51, 17, 923768, tzinfo=tzlocal()),\n",
       "  'actionGroupExecutor': {'lambda': 'arn:aws:lambda:us-east-1:637423659006:function:hr-assistant-function-def-us-east-1-637423659006'},\n",
       "  'functionSchema': {'functions': [{'name': 'get_available_vacations_days',\n",
       "     'description': 'get the number of vacations available for a certain employee',\n",
       "     'parameters': {'employee_id': {'description': 'the id of the employee to get the available vacations',\n",
       "       'type': 'integer',\n",
       "       'required': True}},\n",
       "     'requireConfirmation': 'DISABLED'},\n",
       "    {'name': 'reserve_vacation_time',\n",
       "     'description': 'reserve vacation time for a specific employee - you need all parameters to reserve vacation time',\n",
       "     'parameters': {'end_date': {'description': 'the end date for the vacation time',\n",
       "       'type': 'string',\n",
       "       'required': True},\n",
       "      'employee_id': {'description': 'the id of the employee for which time off will be reserved',\n",
       "       'type': 'integer',\n",
       "       'required': True},\n",
       "      'start_date': {'description': 'the start date for the vacation time',\n",
       "       'type': 'string',\n",
       "       'required': True}},\n",
       "     'requireConfirmation': 'DISABLED'}]},\n",
       "  'actionGroupState': 'ENABLED'}}"
      ]
     },
     "execution_count": 56,
     "metadata": {},
     "output_type": "execute_result"
    }
   ],
   "source": [
    "agent_action_group_response = bedrock_agent_client.create_agent_action_group(\n",
    "    agentId=agent_id,\n",
    "    agentVersion='DRAFT',\n",
    "    actionGroupExecutor={\n",
    "        'lambda': lambda_function['FunctionArn']\n",
    "    },\n",
    "    actionGroupName=agent_action_group_name,\n",
    "    functionSchema={\n",
    "        'functions': agent_functions\n",
    "    },\n",
    "    description=agent_action_group_description\n",
    ")\n",
    "\n",
    "agent_action_group_response"
   ]
  },
  {
   "cell_type": "code",
   "execution_count": 64,
   "id": "79de4d9f-1aea-477c-bf38-ae621e4a9c23",
   "metadata": {},
   "outputs": [
    {
     "data": {
      "text/plain": [
       "{'ResponseMetadata': {'RequestId': '4fee0ca4-9f24-486f-adb8-e863a70d40c6',\n",
       "  'HTTPStatusCode': 202,\n",
       "  'HTTPHeaders': {'date': 'Thu, 28 Aug 2025 15:05:50 GMT',\n",
       "   'content-type': 'application/json',\n",
       "   'content-length': '119',\n",
       "   'connection': 'keep-alive',\n",
       "   'x-amzn-requestid': '4fee0ca4-9f24-486f-adb8-e863a70d40c6',\n",
       "   'x-amz-apigw-id': 'QBZ8OEP-IAMEvCA=',\n",
       "   'x-amzn-trace-id': 'Root=1-68b0704d-1e99097748bb3ff967b2aeb0'},\n",
       "  'RetryAttempts': 0},\n",
       " 'agentId': 'BI9W1TIJTY',\n",
       " 'agentStatus': 'PREPARING',\n",
       " 'agentVersion': 'DRAFT',\n",
       " 'preparedAt': datetime.datetime(2025, 8, 28, 15, 5, 50, 136976, tzinfo=tzlocal())}"
      ]
     },
     "execution_count": 64,
     "metadata": {},
     "output_type": "execute_result"
    }
   ],
   "source": [
    "response = bedrock_agent_client.prepare_agent(\n",
    "    agentId=agent_id\n",
    ")\n",
    "response"
   ]
  },
  {
   "cell_type": "code",
   "execution_count": 65,
   "id": "af86602d-2376-43e2-95ff-36a0ddbdd235",
   "metadata": {},
   "outputs": [
    {
     "data": {
      "text/plain": [
       "{'ResponseMetadata': {'RequestId': '8e2027eb-b8c2-4e5f-b0a8-35de1d88a0d7',\n",
       "  'HTTPStatusCode': 202,\n",
       "  'HTTPHeaders': {'date': 'Thu, 28 Aug 2025 15:05:58 GMT',\n",
       "   'content-type': 'application/json',\n",
       "   'content-length': '382',\n",
       "   'connection': 'keep-alive',\n",
       "   'x-amzn-requestid': '8e2027eb-b8c2-4e5f-b0a8-35de1d88a0d7',\n",
       "   'x-amz-apigw-id': 'QBZ9lHnHoAMEHAg=',\n",
       "   'x-amzn-trace-id': 'Root=1-68b07056-52fcbf312126a47230561d0f'},\n",
       "  'RetryAttempts': 0},\n",
       " 'agentAlias': {'agentId': 'BI9W1TIJTY',\n",
       "  'agentAliasId': '2IEI9NIVOA',\n",
       "  'agentAliasName': 'test-alias-1',\n",
       "  'agentAliasArn': 'arn:aws:bedrock:us-east-1:637423659006:agent-alias/BI9W1TIJTY/2IEI9NIVOA',\n",
       "  'routingConfiguration': [{}],\n",
       "  'createdAt': datetime.datetime(2025, 8, 28, 15, 5, 58, 689905, tzinfo=tzlocal()),\n",
       "  'updatedAt': datetime.datetime(2025, 8, 28, 15, 5, 58, 689905, tzinfo=tzlocal()),\n",
       "  'agentAliasStatus': 'CREATING',\n",
       "  'aliasInvocationState': 'ACCEPT_INVOCATIONS'}}"
      ]
     },
     "execution_count": 65,
     "metadata": {},
     "output_type": "execute_result"
    }
   ],
   "source": [
    "response = bedrock_agent_client.create_agent_alias(\n",
    "    agentAliasName='test-alias-1',\n",
    "    agentId=\"BI9W1TIJTY\"\n",
    ")\n",
    "\n",
    "response"
   ]
  },
  {
   "cell_type": "code",
   "execution_count": 66,
   "id": "c2987781-64b0-44cf-ba0f-6ad1042ca0f9",
   "metadata": {},
   "outputs": [],
   "source": [
    "agent_alias_id = \"2IEI9NIVOA\""
   ]
  },
  {
   "cell_type": "code",
   "execution_count": 60,
   "id": "1bcd346a-adf6-4fcd-9177-882fe7e1b47e",
   "metadata": {},
   "outputs": [
    {
     "name": "stdout",
     "output_type": "stream",
     "text": [
      "SRTIYSXNR0 SNCCSH316L\n"
     ]
    }
   ],
   "source": [
    "print(agent_id,agent_alias_id)"
   ]
  },
  {
   "cell_type": "code",
   "execution_count": 67,
   "id": "3e6000b4-0909-48cf-8007-7ee1a0a31ab7",
   "metadata": {},
   "outputs": [
    {
     "name": "stderr",
     "output_type": "stream",
     "text": [
      "[2025-08-28 15:06:09,794] p16253 {2674590716.py:16} INFO - None\n"
     ]
    },
    {
     "name": "stdout",
     "output_type": "stream",
     "text": [
      "{'ResponseMetadata': {'HTTPHeaders': {'connection': 'keep-alive',\n",
      "                                      'content-type': 'application/vnd.amazon.eventstream',\n",
      "                                      'date': 'Thu, 28 Aug 2025 15:06:09 GMT',\n",
      "                                      'transfer-encoding': 'chunked',\n",
      "                                      'x-amz-bedrock-agent-session-id': '8798ecd4-8420-11f0-92c6-02eb5d432ec1',\n",
      "                                      'x-amzn-bedrock-agent-content-type': 'application/json',\n",
      "                                      'x-amzn-requestid': '8f873b5d-49cd-4009-9eef-d4b7924d7186'},\n",
      "                      'HTTPStatusCode': 200,\n",
      "                      'RequestId': '8f873b5d-49cd-4009-9eef-d4b7924d7186',\n",
      "                      'RetryAttempts': 0},\n",
      " 'completion': <botocore.eventstream.EventStream object at 0x7fabcd862080>,\n",
      " 'contentType': 'application/json',\n",
      " 'sessionId': '8798ecd4-8420-11f0-92c6-02eb5d432ec1'}\n"
     ]
    },
    {
     "name": "stderr",
     "output_type": "stream",
     "text": [
      "[2025-08-28 15:06:13,879] p16253 {2674590716.py:23} INFO - Final answer ->\n",
      "The employee with the ID 3 has 10 days of vacation available.\n"
     ]
    }
   ],
   "source": [
    "## create a random id for session initiator id\n",
    "session_id:str = str(uuid.uuid1())\n",
    "enable_trace:bool = False\n",
    "end_session:bool = False\n",
    "\n",
    "# invoke the agent API\n",
    "agentResponse = bedrock_agent_runtime_client.invoke_agent(\n",
    "    inputText=\"How much vacation does the employee with employee_id set to 3 have available?\",\n",
    "    agentId=agent_id,\n",
    "    agentAliasId=agent_alias_id, \n",
    "    sessionId=session_id,\n",
    "    enableTrace=enable_trace, \n",
    "    endSession= end_session\n",
    ")\n",
    "\n",
    "logger.info(pprint.pprint(agentResponse))\n",
    "\n",
    "event_stream = agentResponse['completion']\n",
    "try:\n",
    "    for event in event_stream:        \n",
    "        if 'chunk' in event:\n",
    "            data = event['chunk']['bytes']\n",
    "            logger.info(f\"Final answer ->\\n{data.decode('utf8')}\")\n",
    "            agent_answer = data.decode('utf8')\n",
    "            end_event_received = True\n",
    "        elif 'trace' in event:\n",
    "            logger.info(json.dumps(event['trace'], indent=2))\n",
    "        else:\n",
    "            raise Exception(\"unexpected event.\", event)\n",
    "except Exception as e:\n",
    "    raise Exception(\"unexpected event.\", e)"
   ]
  },
  {
   "cell_type": "code",
   "execution_count": 66,
   "id": "ba8a5d43-2248-4594-9aef-0b7da4067590",
   "metadata": {},
   "outputs": [
    {
     "name": "stderr",
     "output_type": "stream",
     "text": [
      "[2025-08-25 21:17:56,488] p9121 {505939497.py:10} INFO - None\n"
     ]
    },
    {
     "name": "stdout",
     "output_type": "stream",
     "text": [
      "{'ResponseMetadata': {'HTTPHeaders': {'connection': 'keep-alive',\n",
      "                                      'content-type': 'application/vnd.amazon.eventstream',\n",
      "                                      'date': 'Mon, 25 Aug 2025 21:17:56 GMT',\n",
      "                                      'transfer-encoding': 'chunked',\n",
      "                                      'x-amz-bedrock-agent-session-id': 'f65233c6-81f8-11f0-a836-0e692c5ba471',\n",
      "                                      'x-amzn-bedrock-agent-content-type': 'application/json',\n",
      "                                      'x-amzn-requestid': '7655fd6f-91ea-452a-bec1-468210679f9f'},\n",
      "                      'HTTPStatusCode': 200,\n",
      "                      'RequestId': '7655fd6f-91ea-452a-bec1-468210679f9f',\n",
      "                      'RetryAttempts': 0},\n",
      " 'completion': <botocore.eventstream.EventStream object at 0x7fbda0b90580>,\n",
      " 'contentType': 'application/json',\n",
      " 'sessionId': 'f65233c6-81f8-11f0-a836-0e692c5ba471'}\n"
     ]
    },
    {
     "ename": "Exception",
     "evalue": "('unexpected event.', EventStreamError('An error occurred (accessDeniedException) when calling the InvokeAgent operation: Access denied when calling Bedrock. Check your request permissions and retry the request.'))",
     "output_type": "error",
     "traceback": [
      "\u001b[0;31m---------------------------------------------------------------------------\u001b[0m",
      "\u001b[0;31mEventStreamError\u001b[0m                          Traceback (most recent call last)",
      "Cell \u001b[0;32mIn[66], line 14\u001b[0m\n\u001b[1;32m     13\u001b[0m \u001b[38;5;28;01mtry\u001b[39;00m:\n\u001b[0;32m---> 14\u001b[0m     \u001b[38;5;28;01mfor\u001b[39;00m event \u001b[38;5;129;01min\u001b[39;00m event_stream:        \n\u001b[1;32m     15\u001b[0m         \u001b[38;5;28;01mif\u001b[39;00m \u001b[38;5;124m'\u001b[39m\u001b[38;5;124mchunk\u001b[39m\u001b[38;5;124m'\u001b[39m \u001b[38;5;129;01min\u001b[39;00m event:\n",
      "File \u001b[0;32m~/anaconda3/envs/python3/lib/python3.10/site-packages/botocore/eventstream.py:592\u001b[0m, in \u001b[0;36mEventStream.__iter__\u001b[0;34m(self)\u001b[0m\n\u001b[1;32m    591\u001b[0m \u001b[38;5;28;01mfor\u001b[39;00m event \u001b[38;5;129;01min\u001b[39;00m \u001b[38;5;28mself\u001b[39m\u001b[38;5;241m.\u001b[39m_event_generator:\n\u001b[0;32m--> 592\u001b[0m     parsed_event \u001b[38;5;241m=\u001b[39m \u001b[38;5;28;43mself\u001b[39;49m\u001b[38;5;241;43m.\u001b[39;49m\u001b[43m_parse_event\u001b[49m\u001b[43m(\u001b[49m\u001b[43mevent\u001b[49m\u001b[43m)\u001b[49m\n\u001b[1;32m    593\u001b[0m     \u001b[38;5;28;01mif\u001b[39;00m parsed_event:\n",
      "File \u001b[0;32m~/anaconda3/envs/python3/lib/python3.10/site-packages/botocore/eventstream.py:608\u001b[0m, in \u001b[0;36mEventStream._parse_event\u001b[0;34m(self, event)\u001b[0m\n\u001b[1;32m    607\u001b[0m \u001b[38;5;28;01melse\u001b[39;00m:\n\u001b[0;32m--> 608\u001b[0m     \u001b[38;5;28;01mraise\u001b[39;00m EventStreamError(parsed_response, \u001b[38;5;28mself\u001b[39m\u001b[38;5;241m.\u001b[39m_operation_name)\n",
      "\u001b[0;31mEventStreamError\u001b[0m: An error occurred (accessDeniedException) when calling the InvokeAgent operation: Access denied when calling Bedrock. Check your request permissions and retry the request.",
      "\nDuring handling of the above exception, another exception occurred:\n",
      "\u001b[0;31mException\u001b[0m                                 Traceback (most recent call last)",
      "Cell \u001b[0;32mIn[66], line 26\u001b[0m\n\u001b[1;32m     24\u001b[0m             \u001b[38;5;28;01mraise\u001b[39;00m \u001b[38;5;167;01mException\u001b[39;00m(\u001b[38;5;124m\"\u001b[39m\u001b[38;5;124munexpected event.\u001b[39m\u001b[38;5;124m\"\u001b[39m, event)\n\u001b[1;32m     25\u001b[0m \u001b[38;5;28;01mexcept\u001b[39;00m \u001b[38;5;167;01mException\u001b[39;00m \u001b[38;5;28;01mas\u001b[39;00m e:\n\u001b[0;32m---> 26\u001b[0m     \u001b[38;5;28;01mraise\u001b[39;00m \u001b[38;5;167;01mException\u001b[39;00m(\u001b[38;5;124m\"\u001b[39m\u001b[38;5;124munexpected event.\u001b[39m\u001b[38;5;124m\"\u001b[39m, e)\n",
      "\u001b[0;31mException\u001b[0m: ('unexpected event.', EventStreamError('An error occurred (accessDeniedException) when calling the InvokeAgent operation: Access denied when calling Bedrock. Check your request permissions and retry the request.'))"
     ]
    }
   ],
   "source": [
    "agentResponse = bedrock_agent_runtime_client.invoke_agent(\n",
    "    inputText=\"Great. please reserve one day of time off for the employee with employee_id set to 1 for 2025-12-30\",\n",
    "    agentId=agent_id,\n",
    "    agentAliasId=agent_alias_id, \n",
    "    sessionId=session_id,\n",
    "    enableTrace=enable_trace, \n",
    "    endSession= end_session\n",
    ")\n",
    "\n",
    "logger.info(pprint.pprint(agentResponse))\n",
    "\n",
    "event_stream = agentResponse['completion']\n",
    "try:\n",
    "    for event in event_stream:        \n",
    "        if 'chunk' in event:\n",
    "            data = event['chunk']['bytes']\n",
    "            logger.info(f\"Final answer ->\\n{data.decode('utf8')}\")\n",
    "            agent_answer = data.decode('utf8')\n",
    "            end_event_received = True\n",
    "            # End event indicates that the request finished successfully\n",
    "        elif 'trace' in event:\n",
    "            logger.info(json.dumps(event['trace'], indent=2))\n",
    "        else:\n",
    "            raise Exception(\"unexpected event.\", event)\n",
    "except Exception as e:\n",
    "    raise Exception(\"unexpected event.\", e)"
   ]
  },
  {
   "cell_type": "code",
   "execution_count": null,
   "id": "3656a9be-f835-4636-adcc-e819f0d6c3f5",
   "metadata": {},
   "outputs": [],
   "source": []
  }
 ],
 "metadata": {
  "kernelspec": {
   "display_name": "conda_python3",
   "language": "python",
   "name": "conda_python3"
  },
  "language_info": {
   "codemirror_mode": {
    "name": "ipython",
    "version": 3
   },
   "file_extension": ".py",
   "mimetype": "text/x-python",
   "name": "python",
   "nbconvert_exporter": "python",
   "pygments_lexer": "ipython3",
   "version": "3.10.18"
  }
 },
 "nbformat": 4,
 "nbformat_minor": 5
}
